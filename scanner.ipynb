{
 "cells": [
  {
   "cell_type": "code",
   "execution_count": 214,
   "metadata": {},
   "outputs": [],
   "source": [
    "import pickle\n",
    "import pandas as pd\n",
    "\n",
    "class DataExtractor:\n",
    "\n",
    "    def __init__(self, data_path, expired_path):\n",
    "        self.data_path = data_path\n",
    "        self.expired_path = expired_path\n",
    "        self.data = self.load_data()\n",
    "        self.df = None\n",
    "\n",
    "    def load_data(self):\n",
    "        with open(self.data_path, 'rb') as f:\n",
    "            return pickle.load(f)\n",
    "\n",
    "    def process_invoices(self):\n",
    "        problem_id = []\n",
    "        df_dict = {\n",
    "            'invoice_id': [], 'created_on': [], 'invoiceitem_id': [], \n",
    "            'invoiceitem_name': [], 'type': [], 'unit_price': [], 'quantity': []\n",
    "        }\n",
    "\n",
    "        for i, invoice in enumerate(self.data):\n",
    "            try:\n",
    "                for item in invoice['items']:\n",
    "                    df_dict['invoice_id'].append(invoice['id'])\n",
    "                    df_dict['created_on'].append(invoice['created_on'])\n",
    "                    df_dict['invoiceitem_id'].append(item['item']['id'])\n",
    "                    df_dict['invoiceitem_name'].append(item['item']['name'])\n",
    "                    df_dict['type'].append(item['item']['type'])\n",
    "                    df_dict['unit_price'].append(item['item']['unit_price'])\n",
    "                    df_dict['quantity'].append(item['quantity'])\n",
    "            except KeyError:\n",
    "                problem_id.append(invoice['id'])\n",
    "\n",
    "        self.df = pd.DataFrame.from_dict(df_dict)\n",
    "        self.clean_data()\n",
    "        print(f\"{len(problem_id)} empty invoices identified: {problem_id}\")\n",
    "\n",
    "    def clean_data(self):\n",
    "        self.df['invoice_id'] = self.df['invoice_id'].apply(lambda number: int(number.replace('O', '0')) if isinstance(number, str) else int(number))\n",
    "        self.df['quantity'] = self.df['quantity'].apply(lambda x: 10 if x == 'ten' else 5 if x == 'five' else x)\n",
    "        self.df['type'] = self.df['type'].map({0: 'Material', 'O': 'Material', 1: 'Equipment', 2: 'Service', 3: 'Other'})\n",
    "        self.df['total_price'] = self.df['unit_price'] * self.df['quantity']\n",
    "        self.df['invoice_total'] = self.df['total_price'].groupby(self.df['invoice_id']).transform('sum')\n",
    "        self.df['percentage_in_invoice'] = self.df['unit_price'] * self.df['quantity'] / self.df['invoice_total']\n",
    "        self.df['created_on'] = pd.to_datetime(self.df['created_on'], format='mixed', errors='coerce')\n",
    "        self.check_expired()\n",
    "        self.sort_dataframe()\n",
    "\n",
    "    def check_expired(self):\n",
    "        with open(self.expired_path, 'r') as f:\n",
    "            expired = f.read().split(', ')\n",
    "        expired = [int(i) for i in expired]\n",
    "        self.df['is_expired'] = self.df['invoice_id'].isin(expired)\n",
    "\n",
    "    def sort_dataframe(self):\n",
    "        self.df = self.df.sort_values(['invoice_id', 'invoiceitem_id'])\n",
    "        self.df = self.df[['invoice_id','created_on', 'invoiceitem_id','invoiceitem_name', 'type', 'unit_price', 'total_price', 'percentage_in_invoice', 'is_expired']]\n",
    "\n",
    "    def get_csv(self):\n",
    "        self.process_invoices()\n",
    "        self.df.to_csv('invoices.csv', index=False)"
   ]
  },
  {
   "cell_type": "code",
   "execution_count": 215,
   "metadata": {},
   "outputs": [],
   "source": [
    "extractor = DataExtractor('data/invoices_new.pkl','data/expired_invoices.txt')"
   ]
  },
  {
   "cell_type": "code",
   "execution_count": 216,
   "metadata": {},
   "outputs": [
    {
     "name": "stdout",
     "output_type": "stream",
     "text": [
      "2 empty invoices identified: [379961, 350506]\n"
     ]
    }
   ],
   "source": [
    "extractor.get_csv()"
   ]
  }
 ],
 "metadata": {
  "kernelspec": {
   "display_name": ".venv",
   "language": "python",
   "name": "python3"
  },
  "language_info": {
   "codemirror_mode": {
    "name": "ipython",
    "version": 3
   },
   "file_extension": ".py",
   "mimetype": "text/x-python",
   "name": "python",
   "nbconvert_exporter": "python",
   "pygments_lexer": "ipython3",
   "version": "3.12.3"
  }
 },
 "nbformat": 4,
 "nbformat_minor": 2
}
